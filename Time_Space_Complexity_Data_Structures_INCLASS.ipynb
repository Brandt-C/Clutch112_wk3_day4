{
 "cells": [
  {
   "cell_type": "markdown",
   "metadata": {},
   "source": [
    "# Time/Space Complexity - Intro to Data Structures (User Defined)\n",
    "\n",
    "### Topics to discuss today:\n",
    "\n",
    "<ul>\n",
    "    <li>Time and Space Complexity - What is it/How do we measure it</li>\n",
    "    <li>Asymptotic Analysis</li>\n",
    "    <li><strong>Data Structures</strong></li>\n",
    "    <li>Some of the popular sorting algorithms</li>\n",
    "</ul>\n",
    "\n",
    "### Data Structures to discuss:\n",
    "- Arrays\n",
    "- Stacks\n",
    "- Queues\n",
    "- Linked Lists\n",
    "    - Singly Linked Lists\n",
    "    - Traversing A Linked List\n",
    "    - Finding a node in a linked list\n",
    "    - Adding to a linked list\n"
   ]
  },
  {
   "cell_type": "markdown",
   "metadata": {},
   "source": [
    "## Time and Space Complexity\n",
    "\n",
    "#### What is it?\n",
    "\n",
    "Time and space complexity is the measure of how much time a given action(function) will take to solve a problem. In the same fashion, we determine how much a given data structure will need in terms of memory allocation. A problem can have multiple solutions and finding the optimal solution for the problem needs to be analyzed in time and space.\n",
    "\n",
    "#### How do we measure Time and Space Complexity?\n",
    "\n",
    "In order to measure time and space complexity we use Asymptotic analysis. The reason for this is because we need a way to measure different algorithms (functions) based on the size of their inputs in a mathmatical way. For example, we could have a function that is computed as f(n) and another that is g(n^2). All things around the function staying constant, the only thing that changes is the size of the input. Below is the chart that shows the different Asymptotic analysis formats. "
   ]
  },
  {
   "cell_type": "markdown",
   "metadata": {},
   "source": [
    "<table style=\"text-align:center;\" class=\"table table-bordered\">\n",
    "<tbody><tr>\n",
    "<td>constant</td>\n",
    "<td>−</td>\n",
    "<td>Ο(1)</td>\n",
    "</tr>\n",
    "<tr>\n",
    "<td>logarithmic</td>\n",
    "<td>−</td>\n",
    "<td>Ο(log n)</td>\n",
    "</tr>\n",
    "<tr>\n",
    "<td>linear</td>\n",
    "<td>−</td>\n",
    "<td>Ο(n)</td>\n",
    "</tr>\n",
    "<tr>\n",
    "<td>Linear Logarithmic</td>\n",
    "<td>−</td>\n",
    "<td>Ο(n log n)</td>\n",
    "</tr>\n",
    "<tr>\n",
    "<td>quadratic</td>\n",
    "<td>−</td>\n",
    "<td>Ο(n<sup>2</sup>)</td>\n",
    "</tr>\n",
    "<tr>\n",
    "<td>cubic</td>\n",
    "<td>−</td>\n",
    "<td>Ο(n<sup>3</sup>)</td>\n",
    "</tr>\n",
    "<tr>\n",
    "<td>polynomial</td>\n",
    "<td>−</td>\n",
    "<td>n<sup>Ο(1)</sup></td>\n",
    "</tr>\n",
    "<tr>\n",
    "<td>exponential</td>\n",
    "<td>−</td>\n",
    "<td>2<sup>Ο(n)</sup></td>\n",
    "</tr>\n",
    "</tbody></table>"
   ]
  },
  {
   "cell_type": "code",
   "execution_count": null,
   "metadata": {},
   "outputs": [],
   "source": [
    "# # 1.\n",
    "# for x in range(1000000): # linear operation -1,000,000 items, 1 mil steps \n",
    "    \n",
    "#2. \n",
    "# for x in range(1000000):\n",
    "#     pass\n",
    "#     for y in range(1000000): O(n^2) 1 mil items --> 1,000, 000, 000, 000 steps \n",
    "#         pass\n",
    "\n",
    "# 3. \n",
    "# for x in range(1000000): 1 mil steps\n",
    "#     pass\n",
    "# for x in range(1000000):1 mil steps  --> 2 mil steps O(2n) --> O(n)\n",
    "#     pass\n",
    "\n",
    "# log - like mergeSort as an operation to think of with the splitting behavior\n",
    "# lin log- log operation nested in a loop \n",
    "\n",
    "#space complexity:\n",
    "# copy = alist[:]- linear space operation"
   ]
  },
  {
   "cell_type": "markdown",
   "metadata": {},
   "source": [
    "## Arrays"
   ]
  },
  {
   "cell_type": "markdown",
   "metadata": {},
   "source": [
    "In python we benefit from the dynamic array which means the block of memory will expand as needed for the given input to the array. In traditional arrays (depending on the type of operating system) we will usually store our inputs in 4 or 8 consecutive blocks of memory. Below is a diagram of how that looks under the hood:\n",
    "\n",
    "<img src=\"http://www.mathcs.emory.edu/~cheung/Courses/170/Syllabus/09/FIGS/array02x.gif\" style=\"height:250px; width:350px;\">"
   ]
  },
  {
   "cell_type": "markdown",
   "metadata": {},
   "source": [
    "## Which in python looks like this:"
   ]
  },
  {
   "cell_type": "code",
   "execution_count": 1,
   "metadata": {},
   "outputs": [
    {
     "name": "stdout",
     "output_type": "stream",
     "text": [
      "[2, 6, 4, 68, 34, 657]\n"
     ]
    }
   ],
   "source": [
    "\n",
    "alist = [2, 6, 4, 68, 34, 657]\n",
    "print(alist)"
   ]
  },
  {
   "cell_type": "markdown",
   "metadata": {},
   "source": [
    "### Let's take a look at some of the time and space analysis of arrays"
   ]
  },
  {
   "cell_type": "code",
   "execution_count": 2,
   "metadata": {},
   "outputs": [
    {
     "name": "stdout",
     "output_type": "stream",
     "text": [
      "[2, 6, 75, 68, 34, 657]\n"
     ]
    }
   ],
   "source": [
    "#indexing - O(1)\n",
    "alist[2] = 75\n",
    "print(alist)\n",
    "\n",
    "# searching a list\n",
    "# linear- because we have to go through the list to find our value\n",
    "# for i in alist:\n",
    "#     if i == 657:\n",
    "\n",
    "# copying list/array:\n",
    "# copylist = alist[:] - linear (both time and space here)\n",
    "\n",
    "# .remove() --> O(n)\n",
    "\n",
    "# .append()  .pop() - O(1) or possibly O(n)\n",
    "\n",
    "\n"
   ]
  },
  {
   "cell_type": "markdown",
   "metadata": {},
   "source": [
    "## Stacks and Queues\n",
    "\n",
    "** Stacks ** as the name suggests is a data structure that allows for data to follow the Last In First Out priciple(LIFO). Think of a stack of pancakes for example. To get the first pancake you would  start with the top and go down.\n",
    "\n",
    "##### Searching through a stack will be Linear Time O(n) - Constant Space O(1)\n",
    "##### Selecting the last item will be done in Constant Time O(1) - Constant Space O(1)\n",
    "##### Adding to the stack should take Constant Time O(1) - Constant Space O(1)\n",
    "\n",
    "** Queues ** are similar but in this case follow the First In First Out principle(FIFO). Think of this as a line in a black friday sale. The first person camped out for the big screen tv is the first to get it.\n",
    "\n",
    "##### Searching through a queue will be Linear Time O(n) - Constant Space O(1)\n",
    "##### Selecting the first item will be done in Constant Time O(1) - Constant Space O(1)\n",
    "##### Adding to the queue should take Constant Time O(1) - Constant Space O(1)"
   ]
  },
  {
   "cell_type": "code",
   "execution_count": 10,
   "metadata": {},
   "outputs": [
    {
     "name": "stdout",
     "output_type": "stream",
     "text": [
      "[10, 20, 30]\n",
      "[10, 20]\n",
      "[10]\n",
      "['bill', 'jane', 'mary']\n",
      "['jane', 'mary']\n",
      "deque([])\n",
      "deque([1, 2])\n",
      "deque([2])\n",
      "deque([])\n"
     ]
    }
   ],
   "source": [
    "# built-ins: dict, list, set, tuple\n",
    "\n",
    "stack = []\n",
    "\n",
    "stack.append(10)\n",
    "stack.append(20)\n",
    "stack.append(30)\n",
    "print(stack)\n",
    "\n",
    "stack.pop()\n",
    "print(stack)\n",
    "stack.pop()\n",
    "print(stack)\n",
    "\n",
    "queue = []\n",
    "queue.append('bill')\n",
    "queue.append('jane')\n",
    "queue.append('mary')\n",
    "\n",
    "print(queue)\n",
    "queue.pop(0)\n",
    "print(queue)\n",
    "\n",
    "from collections import deque\n",
    "\n",
    "deck = deque()\n",
    "print(deck)\n",
    "deck.appendleft(1)\n",
    "deck.append(2)\n",
    "print(deck)\n",
    "deck.popleft()\n",
    "print(deck)\n",
    "deck.pop()\n",
    "print(deck)\n",
    "\n",
    "# also stack a stack done as a class\n",
    "class Stack:\n",
    "    def __init__(self):\n",
    "        self.stack = []\n",
    "    def add(self, item):\n",
    "        stack.append(item)\n",
    "    def remove(self):\n",
    "        return stack.pop() #example of forcing this to work how we want it to.\n",
    "\n",
    "\n"
   ]
  },
  {
   "cell_type": "markdown",
   "metadata": {},
   "source": [
    "## Linked List (Data Structure)\n",
    "\n",
    "A linked list is created by using the node class. We create a Node object and create another class to use this node object. We pass the appropriate values thorugh the node object to point the to the next data elements.\n",
    "\n",
    "There are some advantages and disadvantages with this data structure. **Advantages** Linked Lists can save memory because they can be flexibile with memory management which saves memory. **Disadvantages** Finding or adding to the list requires traversing the entire list."
   ]
  },
  {
   "cell_type": "code",
   "execution_count": 11,
   "metadata": {},
   "outputs": [
    {
     "name": "stdout",
     "output_type": "stream",
     "text": [
      "4\n",
      "7\n",
      "22\n"
     ]
    }
   ],
   "source": [
    "# What is a linked list?  a collection of nodes that point to each other. . . \n",
    "\n",
    "class Node():\n",
    "    def __init__(self, val):\n",
    "        self.value = val\n",
    "        self.next = None\n",
    "    def traverse(self):\n",
    "        node = self\n",
    "        while node != None:\n",
    "            print(node.value)\n",
    "            node = node.next\n",
    "            \n",
    "node1= Node(4)\n",
    "node2= Node(7)\n",
    "node3= Node(22)\n",
    "\n",
    "node1.next = node2\n",
    "node2.next = node3\n",
    "\n",
    "node1.traverse()\n",
    "\n",
    "# This is the simple version as an intro!  Let's look at one with all the features below"
   ]
  },
  {
   "cell_type": "code",
   "execution_count": 13,
   "metadata": {},
   "outputs": [],
   "source": [
    "\n",
    "class Node():\n",
    "    def __init__(self, val):\n",
    "        self.value = val\n",
    "        self.next = None\n",
    "        \n",
    "\n",
    "class LinkedList():\n",
    "    def __init__(self):\n",
    "        self.head = None\n",
    "        \n",
    "    def prepend(self, val):\n",
    "        new_node = Node(val)\n",
    "        new_node.next = self.head # establishing where our 'pointer' needs to be\n",
    "        self.head = new_node # passing the crown\n",
    "    \n",
    "    def append(self, val):\n",
    "        new_node = Node(val)\n",
    "        \n",
    "        if not self.head: #sweet! we can just make this the head and go about our day\n",
    "            self.head = new_node\n",
    "        else: #since there is a head we have to go through to the end\n",
    "            last = self.head\n",
    "            while last.next:\n",
    "                last = last.next\n",
    "            last.next = new_node # we're at the end, now we can throw it on there.\n",
    "            \n",
    "    \n",
    "    def insertAfter(self, prev_node, new_value): #here we're placing a node in-between others\n",
    "        # check if previous node exists\n",
    "        if prev_node is None:\n",
    "            print('Invalid position, please try again')\n",
    "        else:\n",
    "            new_node = Node(new_value)\n",
    "            new_node.next = prev_node.next\n",
    "            prev_node.next = new_node\n",
    "            \n",
    "    def traverse(self):\n",
    "        temp = self.head\n",
    "        while temp:\n",
    "            print(temp.value)\n",
    "            temp = temp.next\n"
   ]
  },
  {
   "cell_type": "code",
   "execution_count": 14,
   "metadata": {},
   "outputs": [
    {
     "name": "stdout",
     "output_type": "stream",
     "text": [
      "Mon\n",
      "Tues\n",
      "Wed\n",
      "Thur\n",
      "Fri\n"
     ]
    }
   ],
   "source": [
    "weekdays = LinkedList()\n",
    "\n",
    "weekdays.prepend('Tues')\n",
    "weekdays.prepend('Mon')\n",
    "weekdays.append('Wed')\n",
    "weekdays.append('Fri')\n",
    "weekdays.insertAfter(weekdays.head.next.next, 'Thur')\n",
    "\n",
    "weekdays.traverse()"
   ]
  },
  {
   "cell_type": "markdown",
   "metadata": {},
   "source": [
    "## Binary Search Trees"
   ]
  },
  {
   "cell_type": "code",
   "execution_count": 15,
   "metadata": {},
   "outputs": [],
   "source": [
    "\n",
    "class BST():\n",
    "    def __init__(self, val):\n",
    "        self.value = val\n",
    "        self.left = None\n",
    "        self.right = None\n",
    "        \n",
    "    def insert(self, val):\n",
    "        # find the right space\n",
    "        if val < self.value:\n",
    "            #left\n",
    "            if self.left is None: #sweet! we don't need to worry about going further\n",
    "                self.left = BST(val)\n",
    "            else:\n",
    "                self.left.insert(val)\n",
    "        else:\n",
    "            #right\n",
    "            if self.right is None:\n",
    "                self.right = BST(val)\n",
    "            else:\n",
    "                self.right.insert(val)\n",
    "                \n",
    "    \n",
    "    def contains(self, target):\n",
    "        if target < self.value:\n",
    "            #left\n",
    "            if self.left is None: # this means the value isn't there- there's nothing further left\n",
    "                return False\n",
    "            else:\n",
    "                return self.left.contains(target)\n",
    "        elif target > self.value:\n",
    "            #right\n",
    "            if self.right is None:\n",
    "                return False\n",
    "            else:\n",
    "                return self.right.contains(target)\n",
    "        else: # This means means we're there, nothing greater of less than!\n",
    "            return True\n",
    "    \n",
    "    def getMin(self):\n",
    "        if not self.left: # If there's nothing to the left we've found our min!\n",
    "            return self.value\n",
    "        return self.left.getMin()\n",
    "    \n",
    "    def getMax(self):\n",
    "        if not self.right: # If there's nothing to the right we've found our max!\n",
    "            return self.value\n",
    "        return self.right.getMax()\n",
    "    \n",
    "    def remove(self, value, parent=None):\n",
    "        # FIND\n",
    "        if value < self.value:\n",
    "            #left\n",
    "            if self.left is not None:\n",
    "                self.left.remove(value, self)\n",
    "        elif value > self.value:\n",
    "            #right\n",
    "            if self.right is not None:\n",
    "                self.right.remove(value, self)\n",
    "        else:\n",
    "            # FOUND\n",
    "            if self.left is not None and self.right is not None: # we have a left AND a right!\n",
    "                self.value = self.right.getMin()\n",
    "                self.right.remove(self.value, self)\n",
    "            elif parent is None: # resetting the 'head' (so-to-speak); either left or right is none\n",
    "                if self.left is not None: # so we have to reset the left and rigth to that of current\n",
    "                    self.value = self.left.value\n",
    "                    self.right = self.left.right\n",
    "                    self.left = self.left.left\n",
    "                elif self.right is not None:\n",
    "                    self.value = self.right.value\n",
    "                    self.left = self.right.left\n",
    "                    self.right = self.right.right\n",
    "                else: # there's no left, there's no right, there's no parent. . .  none *3 =None\n",
    "                    self.value = None\n",
    "            elif parent.left == self: # am I on the right or left of my parent\n",
    "                #ternary --> return / condition/ else \n",
    "                parent.left = self.left if self.left else self.right\n",
    "            elif parent.right == self:\n",
    "                parent.right = self.right if self.right else self.left\n",
    "                \n",
    "                "
   ]
  },
  {
   "cell_type": "code",
   "execution_count": 28,
   "metadata": {},
   "outputs": [
    {
     "name": "stdout",
     "output_type": "stream",
     "text": [
      "5\n",
      "20\n",
      "True\n",
      "True\n",
      "False\n",
      "10\n",
      "5\n",
      "None\n",
      "12\n",
      "13\n"
     ]
    }
   ],
   "source": [
    "tree = BST(15)\n",
    "\n",
    "tree.insert(20)\n",
    "tree.insert(10)\n",
    "tree.insert(5)\n",
    "tree.insert(12)\n",
    "tree.insert(11)\n",
    "tree.insert(14)\n",
    "tree.insert(13)\n",
    "\n",
    "print(tree.getMin())\n",
    "print(tree.getMax())\n",
    "\n",
    "print(tree.contains(11))\n",
    "print(tree.contains(20))\n",
    "print(tree.contains(21))\n",
    "\n",
    "print(tree.left.value)\n",
    "print(tree.left.left.value)\n",
    "print(tree.left.left.left)\n",
    "\n",
    "print(tree.left.right.value)\n",
    "tree.remove(12)\n",
    "print(tree.left.right.value)"
   ]
  }
 ],
 "metadata": {
  "kernelspec": {
   "display_name": "Python 3 (ipykernel)",
   "language": "python",
   "name": "python3"
  },
  "language_info": {
   "codemirror_mode": {
    "name": "ipython",
    "version": 3
   },
   "file_extension": ".py",
   "mimetype": "text/x-python",
   "name": "python",
   "nbconvert_exporter": "python",
   "pygments_lexer": "ipython3",
   "version": "3.9.7"
  }
 },
 "nbformat": 4,
 "nbformat_minor": 2
}
